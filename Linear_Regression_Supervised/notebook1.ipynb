{
 "cells": [
  {
   "cell_type": "code",
   "execution_count": 11,
   "id": "ec507a9bd7899ef1",
   "metadata": {
    "ExecuteTime": {
     "end_time": "2025-08-10T08:11:58.845973Z",
     "start_time": "2025-08-10T08:11:56.310366Z"
    }
   },
   "outputs": [
    {
     "name": "stdout",
     "output_type": "stream",
     "text": [
      "Mean Absolute Error: 0.6666666666666643\n",
      "Mean Squared Error: 0.6285714285714282\n",
      "Root Mean Squared Error: 0.7928249671720916\n",
      "Prediction for 7.0 is 86.4\n"
     ]
    }
   ],
   "source": [
    "import pandas as pd\n",
    "from sklearn.linear_model import LinearRegression\n",
    "from sklearn.metrics import mean_absolute_error, mean_squared_error\n",
    "import numpy as np\n",
    "\n",
    "data = pd.read_csv(\"student.csv\")\n",
    "\n",
    "X = data[[\"Hours\"]]\n",
    "y = data[\" Score\"]\n",
    "\n",
    "model = LinearRegression()\n",
    "model.fit(X, y)\n",
    "\n",
    "predicted_score = model.predict(X)\n",
    "\n",
    "# evaluate\n",
    "mae = mean_absolute_error(y, predicted_score)\n",
    "mse = mean_squared_error(y, predicted_score)\n",
    "rmse = np.sqrt(mse)\n",
    "\n",
    "# show results\n",
    "print(\"Mean Absolute Error:\", mae)\n",
    "print(\"Mean Squared Error:\", mse)\n",
    "print(\"Root Mean Squared Error:\", rmse)\n",
    "\n",
    "# Single prediction with same feature name\n",
    "new_hour = float(input(\"Enter a hour = \"))\n",
    "new_pred = model.predict(pd.DataFrame({\"Hours\": [new_hour]}))[0]\n",
    "print(f\"Prediction for {new_hour} is {new_pred}\")\n"
   ]
  }
 ],
 "metadata": {
  "language_info": {
   "name": "python"
  }
 },
 "nbformat": 4,
 "nbformat_minor": 5
}
