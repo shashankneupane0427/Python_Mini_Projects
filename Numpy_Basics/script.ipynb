{
 "cells": [
  {
   "cell_type": "markdown",
   "id": "2fd9a2a20239afd5",
   "metadata": {},
   "source": [
    "### Numpy Basics"
   ]
  },
  {
   "cell_type": "code",
   "execution_count": 10,
   "id": "15851b4ebd7f9616",
   "metadata": {
    "ExecuteTime": {
     "end_time": "2025-08-11T04:52:42.611839Z",
     "start_time": "2025-08-11T04:52:42.607703Z"
    }
   },
   "outputs": [
    {
     "name": "stdout",
     "output_type": "stream",
     "text": [
      "[1, 2, 3, 4, 5]\n",
      "[1 2 3 4 5]\n",
      "\n",
      "1D Array\n",
      "[10 20 30 40 50]\n",
      "\n",
      "2D Array\n",
      "[[1 2 3]\n",
      " [4 5 6]\n",
      " [7 8 9]]\n",
      "\n",
      " MultiDimensional Array or Matrix\n",
      "[[ 2  4  6]\n",
      " [ 8 10 12]]\n",
      "\n",
      " Arrays with Default Zeros Values\n",
      "[0. 0. 0.]\n",
      "\n",
      " Arrays with Default One's Values\n",
      "[[1. 1. 1.]\n",
      " [1. 1. 1.]]\n",
      "\n",
      " Arrays with Default specific Values\n",
      "[[7 7 7]\n",
      " [7 7 7]]\n",
      "\n",
      " Creating sequences of numbers in numpy\n",
      "[1 3 5 7 9]\n",
      "\n",
      " Creating identity matrics\n",
      "[[1. 0. 0.]\n",
      " [0. 1. 0.]\n",
      " [0. 0. 1.]]\n"
     ]
    }
   ],
   "source": [
    "python_list = [1, 2, 3, 4, 5]\n",
    "print(python_list)\n",
    "\n",
    "import numpy as np\n",
    "numpy_array = np.array([1, 2, 3, 4, 5])\n",
    "print(numpy_array)\n",
    "\n",
    "print(\"\\n1D Array\")\n",
    "ar1d = np.array([10,20, 30,40, 50])\n",
    "print(ar1d)\n",
    "\n",
    "print(\"\\n2D Array\")\n",
    "ar2d = np.array([[1,2,3],\n",
    "                 [4,5,6],\n",
    "                 [7,8,9]])\n",
    "print(ar2d)\n",
    "\n",
    "print(\"\\n MultiDimensional Array or Matrix\" )\n",
    "matrix = np.array([[2,4,6],\n",
    "                   [8,10,12]])\n",
    "print(matrix)\n",
    "\n",
    "print(\"\\n Arrays with Default Zeros Values\" )\n",
    "zeros_array = np.zeros(3)\n",
    "print(zeros_array)\n",
    "\n",
    "print(\"\\n Arrays with Default One's Values\")\n",
    "ones_array = np.ones((2,3))\n",
    "print(ones_array)\n",
    "\n",
    "print(\"\\n Arrays with Default specific Values\")\n",
    "filled_array = np.full((2,3), 7)\n",
    "print(filled_array)\n",
    "\n",
    "print(\"\\n Creating sequences of numbers in numpy\")\n",
    "sequence_arr = np.arange(1, 10, 2)\n",
    "print(sequence_arr)\n",
    "\n",
    "print(\"\\n Creating identity matrics\")\n",
    "identity_matrix = np.eye(3)\n",
    "print(identity_matrix)"
   ]
  },
  {
   "cell_type": "markdown",
   "id": "1dd496fc3ad91a44",
   "metadata": {},
   "source": [
    "### Numpy Array Properites and Operations"
   ]
  },
  {
   "cell_type": "code",
   "execution_count": 9,
   "id": "eebd64f31a38c1c6",
   "metadata": {
    "ExecuteTime": {
     "end_time": "2025-08-11T16:09:25.722140Z",
     "start_time": "2025-08-11T16:09:25.717803Z"
    }
   },
   "outputs": [
    {
     "name": "stdout",
     "output_type": "stream",
     "text": [
      "\n",
      "Array Shape\n",
      "(3, 4)\n",
      "\n",
      "Array Size\n",
      "12\n",
      "\n",
      "No of Dimensions\n",
      "2\n",
      "\n",
      "Datatype of element\n",
      "int64\n"
     ]
    }
   ],
   "source": [
    "import numpy as np\n",
    "# Array Checking Properties\n",
    "arr_2d = np.array([[1,2,3,4],[4,5,6,7],[7,8,9,10]])\n",
    "\n",
    "# Array Shape\n",
    "print(\"\\nArray Shape\")\n",
    "print(arr_2d.shape)\n",
    "\n",
    "# Array Size (Total No of Elements)\n",
    "print(\"\\nArray Size\")\n",
    "print(arr_2d.size)\n",
    "\n",
    "# NDIM No. of Dimensions 1D, 2D, 3D\n",
    "print(\"\\nNo of Dimensions\")\n",
    "print(arr_2d.ndim)\n",
    "\n",
    "# dtype Datatype of element\n",
    "print(\"\\nDatatype of element\")\n",
    "print(arr_2d.dtype)"
   ]
  },
  {
   "cell_type": "code",
   "execution_count": 13,
   "id": "bd527a2e50b562b5",
   "metadata": {
    "ExecuteTime": {
     "end_time": "2025-08-11T16:17:14.281076Z",
     "start_time": "2025-08-11T16:17:14.277228Z"
    }
   },
   "outputs": [
    {
     "name": "stdout",
     "output_type": "stream",
     "text": [
      "\n",
      "Changing Float Type to INT\n",
      "[1.2 2.5 3.8]\n",
      "float64\n",
      "\n",
      "After Changing.....\n",
      "[1 2 3]\n",
      "int64\n"
     ]
    }
   ],
   "source": [
    "import numpy as np\n",
    "# Array changing properties\n",
    "\n",
    "arr = np.array([1.2, 2.5, 3.8])\n",
    "\n",
    "int_arr = arr.astype(int)\n",
    "print(\"\\nChanging Float Type to INT\")\n",
    "print(arr)\n",
    "print(arr.dtype)\n",
    "print(\"\\nAfter Changing.....\")\n",
    "print(int_arr)\n",
    "print(int_arr.dtype)"
   ]
  },
  {
   "cell_type": "code",
   "execution_count": null,
   "id": "cfa1bd47e5783d6e",
   "metadata": {},
   "outputs": [],
   "source": [
    "import numpy as np\n",
    "# Array Mathematical Operations\n",
    "\n",
    "arr = np.array([10, 20, 30, 40, 50, 60, 70, 80, 90])\n",
    "\n",
    "print(arr + 2)\n",
    "print(arr * 2)\n",
    "print(arr ** 2)\n",
    "\n",
    "# Aggregation Function ( Summary )\n",
    "print(np.sum(arr))\n",
    "print(np.mean(arr))\n",
    "print(np.min(arr))\n",
    "print(np.max(arr))\n",
    "print(np.median(arr))\n",
    "print(np.std(arr))\n",
    "print(np.var(arr))\n"
   ]
  },
  {
   "cell_type": "markdown",
   "id": "48640b8e4210f59b",
   "metadata": {},
   "source": [
    "### Indexing and Slicing Arrays"
   ]
  },
  {
   "cell_type": "code",
   "execution_count": 19,
   "id": "49a3d6623bad5845",
   "metadata": {
    "ExecuteTime": {
     "end_time": "2025-08-11T16:38:55.491477Z",
     "start_time": "2025-08-11T16:38:55.487521Z"
    }
   },
   "outputs": [
    {
     "name": "stdout",
     "output_type": "stream",
     "text": [
      "10\n",
      "30\n",
      "90\n",
      "[20 30 40]\n",
      "9\n",
      "[20 40 60 80]\n",
      "[90 80 70 60 50 40 30 20 10]\n",
      "[10 30 50]\n"
     ]
    }
   ],
   "source": [
    "import numpy as np\n",
    "arr = np.array([10, 20, 30, 40, 50, 60, 70, 80, 90])\n",
    "print(arr[0])\n",
    "print(arr[2])\n",
    "print(arr[-1])\n",
    "\n",
    "# Slicing\n",
    "print(arr[1:4])\n",
    "print(len(arr))\n",
    "print(arr[1:len(arr):2])\n",
    "print(arr[::-1])\n",
    "\n",
    "# Fancy Indexing\n",
    "print(arr[[0, 2, 4]])"
   ]
  },
  {
   "cell_type": "markdown",
   "id": "1b66b695ee1677ad",
   "metadata": {},
   "source": [
    "### Filtering in Numpy"
   ]
  },
  {
   "cell_type": "code",
   "execution_count": 1,
   "id": "7365cb9eae8f4216",
   "metadata": {
    "jupyter": {
     "is_executing": true
    }
   },
   "outputs": [
    {
     "name": "stdout",
     "output_type": "stream",
     "text": [
      "[30 40 50 60]\n"
     ]
    }
   ],
   "source": [
    "import numpy as np\n",
    "\n",
    "arr = np.array([10,20,30,40,50,60])\n",
    "\n",
    "print(arr[arr > 25])\n"
   ]
  },
  {
   "cell_type": "markdown",
   "id": "5fa313e4",
   "metadata": {},
   "source": [
    "### Reshaping of an Array"
   ]
  },
  {
   "cell_type": "code",
   "execution_count": 5,
   "id": "0eb25e2b",
   "metadata": {},
   "outputs": [
    {
     "name": "stdout",
     "output_type": "stream",
     "text": [
      "\n",
      "Reshaped Array:\n",
      "[[1 2 3]\n",
      " [4 5 6]]\n",
      "\n",
      "After modifying ravel_result[0] = 100\n",
      "Flattened Array using ravel():\n",
      "[100   2   3   4   5   6]\n",
      "\n",
      "After modifying flatten_result[1] = 200\n",
      "Flattened Array using flatten():\n",
      "[  1 200   3   4   5   6]\n",
      "\n",
      "Original 2D Array after modifications:\n",
      "[[100   2   3]\n",
      " [  4   5   6]]\n"
     ]
    }
   ],
   "source": [
    "import numpy as np\n",
    "\n",
    "# Reshaping an array allows you to change its dimensions without changing its data.\n",
    "# Reshaping does not copy a new array, it just changes the view of the original array.\n",
    "\n",
    "arr = np.array([1, 2, 3, 4, 5, 6])\n",
    "reshaped_arr = arr.reshape(2, 3)\n",
    "print(\"\\nReshaped Array:\")\n",
    "print(reshaped_arr)\n",
    "\n",
    "# Flattening an array converts a multi-dimensional array into a one-dimensional array.\n",
    "# .ravel() returns a view – modifying it may affect the original array.\n",
    "# .flatten() returns a copy – modifying it does NOT affect the original array.\n",
    "\n",
    "arr_2d = np.array([[1, 2, 3], [4, 5, 6]])\n",
    "\n",
    "ravel_result = arr_2d.ravel()\n",
    "flatten_result = arr_2d.flatten()\n",
    "\n",
    "# Modify both results\n",
    "ravel_result[0] = 100\n",
    "flatten_result[1] = 200\n",
    "\n",
    "print(\"\\nAfter modifying ravel_result[0] = 100\")\n",
    "print(\"Flattened Array using ravel():\")\n",
    "print(ravel_result)\n",
    "\n",
    "print(\"\\nAfter modifying flatten_result[1] = 200\")\n",
    "print(\"Flattened Array using flatten():\")\n",
    "print(flatten_result)\n",
    "\n",
    "# Show original array to see effect\n",
    "print(\"\\nOriginal 2D Array after modifications:\")\n",
    "print(arr_2d)\n"
   ]
  },
  {
   "cell_type": "markdown",
   "id": "85d47a29",
   "metadata": {},
   "source": [
    "### Advanced Numpy"
   ]
  },
  {
   "cell_type": "markdown",
   "id": "1704d53c",
   "metadata": {},
   "source": [
    "- Inserting In Array"
   ]
  },
  {
   "cell_type": "code",
   "execution_count": null,
   "id": "43386c28",
   "metadata": {},
   "outputs": [
    {
     "name": "stdout",
     "output_type": "stream",
     "text": [
      "\n",
      " Before Insertion:\n",
      "[10 20 30 40 50 60]\n",
      "\n",
      " After Insertion:\n",
      "[ 10  20 100  30  40  50  60]\n",
      "\n",
      "Before Insertion in 2D Array:\n",
      "[[1 2]\n",
      " [4 5]]\n",
      "\n",
      "After Insertion in 2D Array:\n",
      "[[1 2]\n",
      " [5 6]\n",
      " [4 5]]\n"
     ]
    }
   ],
   "source": [
    "import numpy as np\n",
    "\n",
    "\"\"\"\n",
    "np.insert(array, index, value, axis=None)\n",
    "array - original array\n",
    "index - index at which value is to be inserted\n",
    "value - value to be inserted\n",
    "axis - None(default) for flattening the array in 1D,\n",
    "if axis is specified, the value is inserted along that axis\n",
    "axis = 0 , row wise\n",
    "axis = 1 , column wise\n",
    "\"\"\"\n",
    "\n",
    "arr = np.array([10,20,30,40,50,60])\n",
    "new_arr = np.insert(arr, 2, 100, axis=None)\n",
    "\n",
    "print(\"\\n Before Insertion:\")\n",
    "print(arr)\n",
    "\n",
    "print(\"\\n After Insertion:\")\n",
    "print(new_arr)\n",
    "\n",
    "arr_2d = np.array([[1, 2], [4, 5]])\n",
    "\n",
    "#insert a ne row\n",
    "new_arr_2d = np.insert(arr_2d, 1, [5,6], axis=0)\n",
    "\n",
    "print(\"\\nBefore Insertion in 2D Array:\")\n",
    "print(arr_2d)\n",
    "\n",
    "print(\"\\nAfter Insertion in 2D Array:\")\n",
    "print(new_arr_2d)"
   ]
  },
  {
   "cell_type": "markdown",
   "id": "3b4b2c4f",
   "metadata": {},
   "source": [
    "- appending in Array"
   ]
  },
  {
   "cell_type": "code",
   "execution_count": 13,
   "id": "c58c3998",
   "metadata": {},
   "outputs": [
    {
     "name": "stdout",
     "output_type": "stream",
     "text": [
      "\n",
      "Before Appending:\n",
      "[10 20 30]\n",
      "\n",
      "After Appending:\n",
      "[10 20 30 40 50]\n"
     ]
    }
   ],
   "source": [
    "import numpy as np\n",
    "\n",
    "arr = np.array([10,20,30])\n",
    "new_arr = np.append(arr, [40, 50])\n",
    "\n",
    "print(\"\\nBefore Appending:\")\n",
    "print(arr)\n",
    "\n",
    "print(\"\\nAfter Appending:\")\n",
    "print(new_arr)"
   ]
  },
  {
   "cell_type": "markdown",
   "id": "54f95e3d",
   "metadata": {},
   "source": [
    "- concatenating an Array"
   ]
  },
  {
   "cell_type": "code",
   "execution_count": 14,
   "id": "ca27938c",
   "metadata": {},
   "outputs": [
    {
     "name": "stdout",
     "output_type": "stream",
     "text": [
      "\n",
      "Concatenated Array:\n",
      "[1 2 3 4 5 6]\n"
     ]
    }
   ],
   "source": [
    "import numpy as np\n",
    " \n",
    "\"\"\"\n",
    "np.concatenate((array1, array2), axis=0)\n",
    "axis 0 is for row-wise concatenation or vertical stacking\n",
    "axis 1 is for column-wise concatenation or horizontal stacking\n",
    "\"\"\"\n",
    "\n",
    "arr1 = np.array([1, 2, 3])\n",
    "arr2 = np.array([4, 5, 6])\n",
    "\n",
    "new_arr = np.concatenate((arr1, arr2), axis=0)\n",
    "print(\"\\nConcatenated Array:\")\n",
    "print(new_arr)\n"
   ]
  },
  {
   "cell_type": "markdown",
   "id": "da070ba6",
   "metadata": {},
   "source": [
    "- removing elements from an array"
   ]
  },
  {
   "cell_type": "code",
   "execution_count": 18,
   "id": "cd4d8051",
   "metadata": {},
   "outputs": [
    {
     "name": "stdout",
     "output_type": "stream",
     "text": [
      "\n",
      "Array before Deletion:\n",
      "[10 20 30 40 50 60]\n",
      "\n",
      "Array after Deletion:\n",
      "[10 20 40 50 60]\n",
      "\n",
      "2D Array before Deletion:\n",
      "[[1 2 3]\n",
      " [4 5 6]\n",
      " [7 8 9]]\n",
      "\n",
      "2D Array after Deletion:\n",
      "[[1 2 3]\n",
      " [7 8 9]]\n"
     ]
    }
   ],
   "source": [
    "import numpy as np\n",
    "\n",
    "\"\"\"\n",
    "np.delete(array, index, axis=None)\n",
    "\"\"\"\n",
    "\n",
    "arr = np.array([10, 20, 30, 40, 50, 60])\n",
    "new_arr = np.delete(arr, 2, axis=None)\n",
    "\n",
    "print(\"\\nArray before Deletion:\")\n",
    "print(arr)\n",
    "\n",
    "print(\"\\nArray after Deletion:\")\n",
    "print(new_arr)\n",
    "\n",
    "arr_2d = np.array([[1, 2, 3], [4, 5, 6], [7, 8, 9]])\n",
    "new_arr_2d = np.delete(arr_2d, 1, axis=0)\n",
    "\n",
    "print(\"\\n2D Array before Deletion:\")\n",
    "print(arr_2d)\n",
    "\n",
    "print(\"\\n2D Array after Deletion:\")\n",
    "print(new_arr_2d)"
   ]
  },
  {
   "cell_type": "markdown",
   "id": "3562cca0",
   "metadata": {},
   "source": [
    "- stacking in an array"
   ]
  },
  {
   "cell_type": "code",
   "execution_count": 19,
   "id": "0e3a0e0a",
   "metadata": {},
   "outputs": [
    {
     "name": "stdout",
     "output_type": "stream",
     "text": [
      "\n",
      "Vertical Stacking:\n",
      "[[1 2 3]\n",
      " [4 5 6]]\n",
      "\n",
      "Horizontal Stacking:\n",
      "[1 2 3 4 5 6]\n"
     ]
    }
   ],
   "source": [
    "import numpy as np\n",
    "\n",
    "\"\"\"\n",
    "vertically stacking\n",
    "horizontally stacking\n",
    "\n",
    "vstack() row wise\n",
    "stack() column wise\n",
    "\"\"\"\n",
    "\n",
    "arr1 = np.array([1, 2, 3])\n",
    "arr2 = np.array([4, 5, 6])\n",
    "\n",
    "print(\"\\nVertical Stacking:\")\n",
    "print(np.vstack((arr1, arr2)))\n",
    "\n",
    "print(\"\\nHorizontal Stacking:\")\n",
    "print(np.hstack((arr1, arr2)))"
   ]
  },
  {
   "cell_type": "markdown",
   "id": "1a9f19aa",
   "metadata": {},
   "source": [
    "- Splitting in an Array"
   ]
  },
  {
   "cell_type": "code",
   "execution_count": 21,
   "id": "cef2fa95",
   "metadata": {},
   "outputs": [
    {
     "name": "stdout",
     "output_type": "stream",
     "text": [
      "[array([10, 20, 30]), array([40, 50, 60]), array([70, 80, 90])]\n"
     ]
    }
   ],
   "source": [
    "import numpy as np\n",
    "\n",
    "\"\"\"\n",
    "np.split()\n",
    "splits an array into multiple sub-arrays \n",
    "\n",
    "np.hsplit()\n",
    "horizontal split\n",
    "\n",
    "np.vsplit()\n",
    "vertical split  \n",
    "\"\"\"\n",
    "\n",
    "arr = np.array([10,20,30,40,50,60,70,80,90])\n",
    "\n",
    "print(np.split(arr, 3))"
   ]
  },
  {
   "cell_type": "markdown",
   "id": "181136ee",
   "metadata": {},
   "source": [
    "### Broadcasting\n",
    "Broadcasting is a way that NumPy lets you do operations (like add, subtract, etc.) on arrays of different shapes as if they had the same shape."
   ]
  },
  {
   "cell_type": "code",
   "execution_count": 27,
   "id": "0feea528",
   "metadata": {},
   "outputs": [
    {
     "name": "stdout",
     "output_type": "stream",
     "text": [
      "\n",
      "Final Prices after Discount:\n",
      "[90.0, 180.0, 270.0]\n",
      "\n",
      "Final Prices after Discount using Broadcasting:\n",
      "[ 90. 180. 270. 360.]\n"
     ]
    }
   ],
   "source": [
    "import numpy as np\n",
    "\n",
    "prices = [100, 200, 300]\n",
    "discount = 10\n",
    "final_prices = []\n",
    "\n",
    "for price in prices:\n",
    "    final_price = price - (price * discount / 100)\n",
    "    final_prices.append(final_price)\n",
    "\n",
    "print(\"\\nFinal Prices after Discount:\")\n",
    "print(final_prices)\n",
    "\n",
    "\n",
    "prices = np.array([100,200,300,400])\n",
    "discount = 10\n",
    "final_prices = prices - (prices * discount / 100)\n",
    "\n",
    "print(\"\\nFinal Prices after Discount using Broadcasting:\")\n",
    "print(final_prices)\n"
   ]
  },
  {
   "cell_type": "markdown",
   "id": "ac489e69",
   "metadata": {},
   "source": [
    "How numpy handle arrays of different shapes \n",
    "1. Matching Dimensions\n",
    "```python\n",
    "arr1 = [1,2,3]\n",
    "arr2 = [4,5,6]\n",
    "\n",
    "# After performing arr1 + arr2\n",
    "result = [5, 7, 9]\n",
    "```\n",
    "2. Expanding single elements\n",
    "```python\n",
    "arr1 = [1,2,3]\n",
    "\n",
    "# After performing arr1 + 10\n",
    "result = [10, 20, 30]\n",
    "```\n",
    "3. Incompatible Shapes\n",
    "```python\n",
    "arr1 = [1, 2, 3]\n",
    "arr2 = [1, 2]\n",
    "\n",
    "# After performing arr1 + arr2\n",
    "result = error\n",
    "```"
   ]
  },
  {
   "cell_type": "code",
   "execution_count": 33,
   "id": "c5e9f303",
   "metadata": {},
   "outputs": [
    {
     "name": "stdout",
     "output_type": "stream",
     "text": [
      "\n",
      "Original Array:\n",
      "[100 200 300]\n",
      "\n",
      "Result after Broadcasting:\n",
      "[200 400 600]\n",
      "\n",
      "1d to 2d Broadcasting Result:\n",
      "[[11 22 33]\n",
      " [14 25 36]]\n"
     ]
    }
   ],
   "source": [
    "import numpy as np\n",
    "\n",
    "arr = np.array([100, 200, 300])\n",
    "result = arr * 2\n",
    "\n",
    "print(\"\\nOriginal Array:\")\n",
    "print(arr)\n",
    "\n",
    "print(\"\\nResult after Broadcasting:\")\n",
    "print(result)\n",
    "\n",
    "# Broadcasting 1D array to 2D array\n",
    "\n",
    "matrix = np.array([[1,2,3], [4,5,6]]) # 2 * 3 Matrix\n",
    "vector = np.array([10, 20, 30]) # 1D Array\n",
    "\n",
    "result = matrix + vector\n",
    "print(\"\\n1d to 2d Broadcasting Result:\")\n",
    "print(result)\n"
   ]
  },
  {
   "cell_type": "markdown",
   "id": "7d61db9e",
   "metadata": {},
   "source": [
    "### Vectorization\n",
    "Vectorization means performing operations on entire arrays (vectors) instead of using loops to process individual elements."
   ]
  },
  {
   "cell_type": "code",
   "execution_count": 36,
   "id": "f8184489",
   "metadata": {},
   "outputs": [
    {
     "name": "stdout",
     "output_type": "stream",
     "text": [
      "\n",
      "Result of Vectorized Addition:\n",
      "[5 7 9]\n",
      "\n",
      "Result of Vectorized Multiplication:\n",
      "[30 60 90]\n"
     ]
    }
   ],
   "source": [
    "import numpy as np\n",
    "\n",
    "arr1 = np.array([1, 2, 3])\n",
    "arr2 = np.array([4, 5, 6])\n",
    "\n",
    "result = arr1 + arr2\n",
    "print(\"\\nResult of Vectorized Addition:\")\n",
    "print(result)\n",
    "\n",
    "arr3 = np.array([10, 20, 30])\n",
    "result = arr3 * 3\n",
    "print(\"\\nResult of Vectorized Multiplication:\")\n",
    "print(result)\n"
   ]
  },
  {
   "cell_type": "markdown",
   "id": "781622fa",
   "metadata": {},
   "source": [
    "### TL;DR:\n",
    "- Vectorization = use arrays instead of loops to perform operations.\n",
    "- Broadcasting = automatic shape matching of arrays to perform operations."
   ]
  },
  {
   "cell_type": "markdown",
   "id": "7cd5c58e",
   "metadata": {},
   "source": [
    "## Handling Missing Values\n",
    "Builtin Functions\n",
    "- np.isnan -- detects missing value\n",
    "- np.nan_to_num() -- replace NaN with an specific num\n",
    "- np.isinf() -- to detect infinite values"
   ]
  },
  {
   "cell_type": "code",
   "execution_count": 8,
   "id": "fdd59adf",
   "metadata": {},
   "outputs": [
    {
     "name": "stdout",
     "output_type": "stream",
     "text": [
      "\n",
      "Detect NaN:\n",
      "[False False  True False  True False]\n",
      "\n",
      "Replace NaN with 100\n",
      "[  1.   2. 100.   4. 100.   6.]\n",
      "\n",
      "Detect infinity:\n",
      "[False False  True False  True False]\n",
      "\n",
      "Replace posinf with 1000 and neginf with -1000: \n",
      "[1. 2. 0. 4. 0. 6.]\n"
     ]
    }
   ],
   "source": [
    "import numpy as np\n",
    "\n",
    "arr = np.array([1, 2, np.nan, 4, np.nan, 6])\n",
    "print(\"\\nDetect NaN:\")\n",
    "print(np.isnan(arr))\n",
    "\n",
    "cleaned_arr = np.nan_to_num(arr, nan = 100)\n",
    "print(\"\\nReplace NaN with 100\")\n",
    "print(cleaned_arr)\n",
    "\n",
    "arr1 = np.array([1, 2, np.inf, 4, -np.inf, 6])\n",
    "print(\"\\nDetect infinity:\")\n",
    "print(np.isinf(arr1))\n",
    "\n",
    "cleaned_arr = np.nan_to_num(arr, posinf=1000, neginf=-1000)\n",
    "print(\"\\nReplace posinf with 1000 and neginf with -1000: \")\n",
    "print(cleaned_arr)"
   ]
  }
 ],
 "metadata": {
  "kernelspec": {
   "display_name": "base",
   "language": "python",
   "name": "python3"
  },
  "language_info": {
   "codemirror_mode": {
    "name": "ipython",
    "version": 3
   },
   "file_extension": ".py",
   "mimetype": "text/x-python",
   "name": "python",
   "nbconvert_exporter": "python",
   "pygments_lexer": "ipython3",
   "version": "3.12.4"
  }
 },
 "nbformat": 4,
 "nbformat_minor": 5
}
