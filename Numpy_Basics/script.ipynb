{
 "cells": [
  {
   "metadata": {},
   "cell_type": "markdown",
   "source": "### Numpy Basics",
   "id": "2fd9a2a20239afd5"
  },
  {
   "metadata": {
    "ExecuteTime": {
     "end_time": "2025-08-11T04:52:42.611839Z",
     "start_time": "2025-08-11T04:52:42.607703Z"
    }
   },
   "cell_type": "code",
   "source": [
    "python_list = [1, 2, 3, 4, 5]\n",
    "print(python_list)\n",
    "\n",
    "import numpy as np\n",
    "numpy_array = np.array([1, 2, 3, 4, 5])\n",
    "print(numpy_array)\n",
    "\n",
    "print(\"\\n1D Array\")\n",
    "ar1d = np.array([10,20, 30,40, 50])\n",
    "print(ar1d)\n",
    "\n",
    "print(\"\\n2D Array\")\n",
    "ar2d = np.array([[1,2,3],\n",
    "                 [4,5,6],\n",
    "                 [7,8,9]])\n",
    "print(ar2d)\n",
    "\n",
    "print(\"\\n MultiDimensional Array or Matrix\" )\n",
    "matrix = np.array([[2,4,6],\n",
    "                   [8,10,12]])\n",
    "print(matrix)\n",
    "\n",
    "print(\"\\n Arrays with Default Zeros Values\" )\n",
    "zeros_array = np.zeros(3)\n",
    "print(zeros_array)\n",
    "\n",
    "print(\"\\n Arrays with Default One's Values\")\n",
    "ones_array = np.ones((2,3))\n",
    "print(ones_array)\n",
    "\n",
    "print(\"\\n Arrays with Default specific Values\")\n",
    "filled_array = np.full((2,3), 7)\n",
    "print(filled_array)\n",
    "\n",
    "print(\"\\n Creating sequences of numbers in numpy\")\n",
    "sequence_arr = np.arange(1, 10, 2)\n",
    "print(sequence_arr)\n",
    "\n",
    "print(\"\\n Creating identity matrics\")\n",
    "identity_matrix = np.eye(3)\n",
    "print(identity_matrix)"
   ],
   "id": "15851b4ebd7f9616",
   "outputs": [
    {
     "name": "stdout",
     "output_type": "stream",
     "text": [
      "[1, 2, 3, 4, 5]\n",
      "[1 2 3 4 5]\n",
      "\n",
      "1D Array\n",
      "[10 20 30 40 50]\n",
      "\n",
      "2D Array\n",
      "[[1 2 3]\n",
      " [4 5 6]\n",
      " [7 8 9]]\n",
      "\n",
      " MultiDimensional Array or Matrix\n",
      "[[ 2  4  6]\n",
      " [ 8 10 12]]\n",
      "\n",
      " Arrays with Default Zeros Values\n",
      "[0. 0. 0.]\n",
      "\n",
      " Arrays with Default One's Values\n",
      "[[1. 1. 1.]\n",
      " [1. 1. 1.]]\n",
      "\n",
      " Arrays with Default specific Values\n",
      "[[7 7 7]\n",
      " [7 7 7]]\n",
      "\n",
      " Creating sequences of numbers in numpy\n",
      "[1 3 5 7 9]\n",
      "\n",
      " Creating identity matrics\n",
      "[[1. 0. 0.]\n",
      " [0. 1. 0.]\n",
      " [0. 0. 1.]]\n"
     ]
    }
   ],
   "execution_count": 10
  },
  {
   "metadata": {},
   "cell_type": "markdown",
   "source": "### Numpy Array Properites and Operations",
   "id": "1dd496fc3ad91a44"
  },
  {
   "metadata": {
    "ExecuteTime": {
     "end_time": "2025-08-11T16:09:25.722140Z",
     "start_time": "2025-08-11T16:09:25.717803Z"
    }
   },
   "cell_type": "code",
   "source": [
    "import numpy as np\n",
    "# Array Checking Properties\n",
    "arr_2d = np.array([[1,2,3,4],[4,5,6,7],[7,8,9,10]])\n",
    "\n",
    "# Array Shape\n",
    "print(\"\\nArray Shape\")\n",
    "print(arr_2d.shape)\n",
    "\n",
    "# Array Size (Total No of Elements)\n",
    "print(\"\\nArray Size\")\n",
    "print(arr_2d.size)\n",
    "\n",
    "# NDIM No. of Dimensions 1D, 2D, 3D\n",
    "print(\"\\nNo of Dimensions\")\n",
    "print(arr_2d.ndim)\n",
    "\n",
    "# dtype Datatype of element\n",
    "print(\"\\nDatatype of element\")\n",
    "print(arr_2d.dtype)"
   ],
   "id": "eebd64f31a38c1c6",
   "outputs": [
    {
     "name": "stdout",
     "output_type": "stream",
     "text": [
      "\n",
      "Array Shape\n",
      "(3, 4)\n",
      "\n",
      "Array Size\n",
      "12\n",
      "\n",
      "No of Dimensions\n",
      "2\n",
      "\n",
      "Datatype of element\n",
      "int64\n"
     ]
    }
   ],
   "execution_count": 9
  },
  {
   "metadata": {
    "ExecuteTime": {
     "end_time": "2025-08-11T16:17:14.281076Z",
     "start_time": "2025-08-11T16:17:14.277228Z"
    }
   },
   "cell_type": "code",
   "source": [
    "import numpy as np\n",
    "# Array changing properties\n",
    "\n",
    "arr = np.array([1.2, 2.5, 3.8])\n",
    "\n",
    "int_arr = arr.astype(int)\n",
    "print(\"\\nChanging Float Type to INT\")\n",
    "print(arr)\n",
    "print(arr.dtype)\n",
    "print(\"\\nAfter Changing.....\")\n",
    "print(int_arr)\n",
    "print(int_arr.dtype)"
   ],
   "id": "bd527a2e50b562b5",
   "outputs": [
    {
     "name": "stdout",
     "output_type": "stream",
     "text": [
      "\n",
      "Changing Float Type to INT\n",
      "[1.2 2.5 3.8]\n",
      "float64\n",
      "\n",
      "After Changing.....\n",
      "[1 2 3]\n",
      "int64\n"
     ]
    }
   ],
   "execution_count": 13
  },
  {
   "metadata": {},
   "cell_type": "code",
   "outputs": [],
   "execution_count": null,
   "source": [
    "import numpy as np\n",
    "# Array Mathematical Operations\n",
    "\n",
    "arr = np.array([10, 20, 30, 40, 50, 60, 70, 80, 90])\n",
    "\n",
    "print(arr + 2)\n",
    "print(arr * 2)\n",
    "print(arr ** 2)\n",
    "\n",
    "# Aggregation Function ( Summary )\n",
    "print(np.sum(arr))\n",
    "print(np.mean(arr))\n",
    "print(np.min(arr))\n",
    "print(np.max(arr))\n",
    "print(np.median(arr))\n",
    "print(np.std(arr))\n",
    "print(np.var(arr))\n"
   ],
   "id": "cfa1bd47e5783d6e"
  },
  {
   "metadata": {},
   "cell_type": "markdown",
   "source": "### Indexing and Slicing Arrays",
   "id": "48640b8e4210f59b"
  },
  {
   "metadata": {
    "ExecuteTime": {
     "end_time": "2025-08-11T16:38:55.491477Z",
     "start_time": "2025-08-11T16:38:55.487521Z"
    }
   },
   "cell_type": "code",
   "source": [
    "import numpy as np\n",
    "arr = np.array([10, 20, 30, 40, 50, 60, 70, 80, 90])\n",
    "print(arr[0])\n",
    "print(arr[2])\n",
    "print(arr[-1])\n",
    "\n",
    "# Slicing\n",
    "print(arr[1:4])\n",
    "print(len(arr))\n",
    "print(arr[1:len(arr):2])\n",
    "print(arr[::-1])\n",
    "\n",
    "# Fancy Indexing\n",
    "print(arr[[0, 2, 4]])"
   ],
   "id": "49a3d6623bad5845",
   "outputs": [
    {
     "name": "stdout",
     "output_type": "stream",
     "text": [
      "10\n",
      "30\n",
      "90\n",
      "[20 30 40]\n",
      "9\n",
      "[20 40 60 80]\n",
      "[90 80 70 60 50 40 30 20 10]\n",
      "[10 30 50]\n"
     ]
    }
   ],
   "execution_count": 19
  },
  {
   "metadata": {},
   "cell_type": "markdown",
   "source": "### Filtering in Numpy",
   "id": "1b66b695ee1677ad"
  },
  {
   "metadata": {
    "jupyter": {
     "is_executing": true
    }
   },
   "cell_type": "code",
   "source": [
    "import numpy as np\n",
    "\n",
    "arr = np.array([10,20,30,40,50,60])\n",
    "\n",
    "print(arr[arr > 25])\n"
   ],
   "id": "7365cb9eae8f4216",
   "outputs": [],
   "execution_count": null
  }
 ],
 "metadata": {
  "kernelspec": {
   "display_name": "Python 3",
   "language": "python",
   "name": "python3"
  },
  "language_info": {
   "codemirror_mode": {
    "name": "ipython",
    "version": 2
   },
   "file_extension": ".py",
   "mimetype": "text/x-python",
   "name": "python",
   "nbconvert_exporter": "python",
   "pygments_lexer": "ipython2",
   "version": "2.7.6"
  }
 },
 "nbformat": 4,
 "nbformat_minor": 5
}
