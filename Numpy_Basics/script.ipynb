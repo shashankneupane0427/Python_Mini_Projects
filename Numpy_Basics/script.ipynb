{
 "cells": [
  {
   "cell_type": "code",
   "id": "initial_id",
   "metadata": {
    "collapsed": true,
    "ExecuteTime": {
     "end_time": "2025-08-10T15:46:21.201087Z",
     "start_time": "2025-08-10T15:46:21.198248Z"
    }
   },
   "source": [
    "import numpy as np\n",
    "\n",
    "tempreatures = np.array([32.4, 31.8, 33.0, 35.2, 36.6])\n",
    "average = np.mean(tempreatures)\n",
    "print(average)"
   ],
   "outputs": [
    {
     "name": "stdout",
     "output_type": "stream",
     "text": [
      "33.8\n"
     ]
    }
   ],
   "execution_count": 2
  }
 ],
 "metadata": {
  "kernelspec": {
   "display_name": "Python 3",
   "language": "python",
   "name": "python3"
  },
  "language_info": {
   "codemirror_mode": {
    "name": "ipython",
    "version": 2
   },
   "file_extension": ".py",
   "mimetype": "text/x-python",
   "name": "python",
   "nbconvert_exporter": "python",
   "pygments_lexer": "ipython2",
   "version": "2.7.6"
  }
 },
 "nbformat": 4,
 "nbformat_minor": 5
}
