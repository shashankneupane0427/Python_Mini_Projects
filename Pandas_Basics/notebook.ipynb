{
 "cells": [
  {
   "cell_type": "markdown",
   "id": "7897e24b",
   "metadata": {},
   "source": [
    "# Pandas Fundametals"
   ]
  },
  {
   "cell_type": "markdown",
   "id": "47eba4b7",
   "metadata": {},
   "source": [
    "### Key pandas concept:\n",
    "- Series:\n",
    "A series is a one-dimensional labeld array that ca n hold any data type: integeres, floats, strings, or eve Python objects. Each element in the series has a unique label called an Index. \n",
    "\n",
    "- DataFrame:\n",
    "A DataFrame is a two-dimensional labeld data structure in Pandas, similar to a table in a database, an Excel spreadsheet, or a SQL table. It consists of rows and columns."
   ]
  },
  {
   "cell_type": "code",
   "execution_count": 1,
   "id": "c7cb28f3",
   "metadata": {},
   "outputs": [
    {
     "name": "stdout",
     "output_type": "stream",
     "text": [
      "   Student_ID  Math_Score  Science_Score  Attendance_Percentage\n",
      "0         101        85.0           95.0                   92.5\n",
      "1         102        78.0           88.0                   99.0\n",
      "2         103        91.0           75.0                   75.5\n",
      "3         104        76.0           89.0                    NaN\n",
      "4         105        95.0           92.0                   98.0\n"
     ]
    }
   ],
   "source": [
    "import pandas as pd\n",
    "\n",
    "# read csv from CSV file into a dataframe\n",
    "df = pd.read_csv(\"student_data.csv\")\n",
    "print(df.head())\n"
   ]
  },
  {
   "cell_type": "code",
   "execution_count": 2,
   "id": "5ec6a976",
   "metadata": {},
   "outputs": [
    {
     "name": "stdout",
     "output_type": "stream",
     "text": [
      "   id     name  age        department  marks\n",
      "0   1    Alice   24  Computer Science     88\n",
      "1   2      Bob   22       Mathematics     75\n",
      "2   3  Charlie   23           Physics     92\n",
      "3   4    David   21  Computer Science     81\n",
      "4   5      Eva   24       Mathematics     95\n"
     ]
    }
   ],
   "source": [
    "import pandas as pd\n",
    "\n",
    "# read json file\n",
    "df = pd.read_json('isjson.json')\n",
    "print(df.head())"
   ]
  },
  {
   "cell_type": "markdown",
   "id": "66680cf5",
   "metadata": {},
   "source": [
    "- gcsfs is used for cloud data"
   ]
  },
  {
   "cell_type": "code",
   "execution_count": 7,
   "id": "70e99dfa",
   "metadata": {},
   "outputs": [
    {
     "name": "stdout",
     "output_type": "stream",
     "text": [
      "      Name  Age         City\n",
      "0    Alice   24     New York\n",
      "1      Bob   22  Los Angeles\n",
      "2  Charlie   23      Chicago\n"
     ]
    }
   ],
   "source": [
    "import pandas as pd\n",
    "\n",
    "data = {\n",
    "    \"Name\": [\"Alice\", \"Bob\", \"Charlie\"],\n",
    "    \"Age\": [24, 22, 23],\n",
    "    \"City\": [\"New York\", \"Los Angeles\", \"Chicago\"]\n",
    "}\n",
    "\n",
    "df = pd.DataFrame(data)\n",
    "print(df)\n",
    "\n",
    "df.to_csv('output.csv', index=False)"
   ]
  },
  {
   "cell_type": "markdown",
   "id": "80ab9879",
   "metadata": {},
   "source": [
    "------------------------------------------------------------\n",
    "### Why Exploring Dataset is Important:\n",
    "- understand the data set and its format\n",
    "- identify the problems (duplicate, missing, infinity)\n",
    "- plan next steps"
   ]
  },
  {
   "cell_type": "code",
   "execution_count": 9,
   "id": "9680bd74",
   "metadata": {},
   "outputs": [
    {
     "name": "stdout",
     "output_type": "stream",
     "text": [
      "\n",
      "Display 10 rows from Starting: \n",
      "   Student_ID  Math_Score  Science_Score  Attendance_Percentage\n",
      "0         101        85.0           95.0                   92.5\n",
      "1         102        78.0           88.0                   99.0\n",
      "2         103        91.0           75.0                   75.5\n",
      "3         104        76.0           89.0                    NaN\n",
      "4         105        95.0           92.0                   98.0\n",
      "5         106        65.0           72.0                   68.0\n",
      "6         107        88.0           85.0                  105.0\n",
      "7         108        92.0           91.0                   90.0\n",
      "8         109         NaN           80.0                   85.0\n",
      "9         110        80.0           90.0                   92.0\n",
      "\n",
      "Display 10 rows from End: \n",
      "    Student_ID  Math_Score  Science_Score  Attendance_Percentage\n",
      "7          108        92.0           91.0                   90.0\n",
      "8          109         NaN           80.0                   85.0\n",
      "9          110        80.0           90.0                   92.0\n",
      "10         111        75.0           78.0                   79.0\n",
      "11         112       -10.0           88.0                   87.0\n",
      "12         113        89.0            inf                   88.0\n",
      "13         114        90.0           -inf                   91.0\n",
      "14         115        87.0           93.0                   94.0\n",
      "15         116        82.0           84.0                   86.0\n",
      "16         103        91.0           75.0                   75.5\n"
     ]
    }
   ],
   "source": [
    "import pandas as pd\n",
    "\n",
    "# head() tail()\n",
    "# head(n), taile(n) or by befault 5 Rows\n",
    "\n",
    "df = pd.read_csv(\"student_data.csv\")\n",
    "print(\"\\nDisplay 10 rows from Starting: \")\n",
    "print(df.head(10))\n",
    "\n",
    "print(\"\\nDisplay 10 rows from End: \")\n",
    "print(df.tail(10))\n"
   ]
  },
  {
   "cell_type": "markdown",
   "id": "e75ce27b",
   "metadata": {},
   "source": [
    "----------------------------------------------------------\n",
    "### After Previewing the data the another step is to understand the data\n",
    "- Type of structure\n",
    "- Column Type\n",
    "- Missing Values\n",
    "- OVerall size of data\n",
    "\n",
    "Overall summary of data in general.\n",
    "\n",
    "info()\n",
    "method\n",
    "\n",
    "1. number of rows and columns\n",
    "2. column name\n",
    "3. int64, float64 / datatype\n",
    "4. non null counts\n",
    "5. memoery uses of the data frame\n"
   ]
  },
  {
   "cell_type": "code",
   "execution_count": 12,
   "id": "c0fcd0bb",
   "metadata": {},
   "outputs": [
    {
     "name": "stdout",
     "output_type": "stream",
     "text": [
      "\n",
      "Displaying the info of data set........\n",
      "\n",
      "<class 'pandas.core.frame.DataFrame'>\n",
      "RangeIndex: 17 entries, 0 to 16\n",
      "Data columns (total 4 columns):\n",
      " #   Column                 Non-Null Count  Dtype  \n",
      "---  ------                 --------------  -----  \n",
      " 0   Student_ID             17 non-null     int64  \n",
      " 1   Math_Score             16 non-null     float64\n",
      " 2   Science_Score          17 non-null     float64\n",
      " 3   Attendance_Percentage  16 non-null     float64\n",
      "dtypes: float64(3), int64(1)\n",
      "memory usage: 676.0 bytes\n",
      "None\n"
     ]
    }
   ],
   "source": [
    "import pandas as pd\n",
    "\n",
    "# info() method\n",
    "\n",
    "df = pd.read_csv(\"student_data.csv\")\n",
    "\n",
    "print(\"\\nDisplaying the info of data set........\\n\")\n",
    "print(df.info())"
   ]
  },
  {
   "cell_type": "markdown",
   "id": "d9a79fed",
   "metadata": {},
   "source": [
    "------------------------------------------------------------\n",
    "### Untill Now We Learned:\n",
    "1. How to Read the Data\n",
    "2. How to Save the Data\n",
    "3. How to Explore the Data\n",
    "4. How to Generate Summary of Data \n",
    "\n",
    "Another Popular method in Pandas is :\n",
    "describe()\n",
    "method\n",
    "\n",
    "- Provides a descriptive statistics for numerical columns in data frames such as : \n",
    "    - Count\n",
    "    - Mean\n",
    "    - Standard Deviation\n",
    "    - Minimum\n",
    "    - 25% 50% 75%\n",
    "    - Maximum"
   ]
  },
  {
   "cell_type": "code",
   "execution_count": 14,
   "id": "188f1bd3",
   "metadata": {},
   "outputs": [
    {
     "name": "stdout",
     "output_type": "stream",
     "text": [
      "\n",
      "Displaying the statistical summary of data set........\n",
      "\n",
      "       Student_ID  Math_Score  Science_Score  Attendance_Percentage\n",
      "count   17.000000   16.000000           17.0              16.000000\n",
      "mean   108.176471   78.375000            NaN              87.843750\n",
      "std      4.798897   24.848541            NaN               9.669055\n",
      "min    101.000000  -10.000000           -inf              68.000000\n",
      "25%    104.000000   77.500000           78.0              83.500000\n",
      "50%    108.000000   86.000000           88.0              89.000000\n",
      "75%    112.000000   90.250000           91.0              92.875000\n",
      "max    116.000000   95.000000            inf             105.000000\n"
     ]
    },
    {
     "name": "stderr",
     "output_type": "stream",
     "text": [
      "c:\\Users\\surya\\miniconda3\\Lib\\site-packages\\numpy\\_core\\_methods.py:52: RuntimeWarning: invalid value encountered in reduce\n",
      "  return umr_sum(a, axis, dtype, out, keepdims, initial, where)\n"
     ]
    }
   ],
   "source": [
    "import pandas as pd\n",
    "\n",
    "# describe()\n",
    "\n",
    "df = pd.read_csv(\"student_data.csv\")\n",
    "\n",
    "print(\"\\nDisplaying the statistical summary of data set........\\n\")\n",
    "print(df.describe())\n"
   ]
  },
  {
   "cell_type": "markdown",
   "id": "fe6c8e43",
   "metadata": {},
   "source": [
    "-------------------------------------------------------------\n",
    "Understand:\n",
    "1. How big is your dataset\n",
    "2. What are the names of column\n",
    "\n",
    "Shape and columns\n",
    "- df.shape\n",
    "- df.columns"
   ]
  },
  {
   "cell_type": "code",
   "execution_count": 15,
   "id": "ba54f24f",
   "metadata": {},
   "outputs": [
    {
     "name": "stdout",
     "output_type": "stream",
     "text": [
      "\n",
      "Shape : (17, 4)\n",
      "\n",
      "Columns : Index(['Student_ID', 'Math_Score', 'Science_Score', 'Attendance_Percentage'], dtype='object')\n"
     ]
    }
   ],
   "source": [
    "import pandas as pd\n",
    "\n",
    "# df.shape, df.columns\n",
    "\n",
    "df = pd.read_csv(\"student_data.csv\")\n",
    "\n",
    "print(f\"\\nShape : {df.shape}\")\n",
    "print(f\"\\nColumns : {df.columns}\")\n",
    "    "
   ]
  },
  {
   "cell_type": "markdown",
   "id": "05b2dd84",
   "metadata": {},
   "source": [
    "----------------------------------------------------------\n",
    "### Learning How to:\n",
    "-  Select specific column\n",
    "    - df[\"Name\"]\n",
    "    - df[\"Name\", \"roll\"]\n",
    "-  Filter rows\n",
    "    - Based on single condition\n",
    "    - filtered_rows = df[df[\"Salary\"] > 50000]\n",
    "\n",
    "    - Based on multiple condition\n",
    "    - filtered_rows = df[(df[\"salary\"] > 50000) & (df[\"salary\"] < 80000)]"
   ]
  },
  {
   "cell_type": "code",
   "execution_count": 30,
   "id": "939a7f5b",
   "metadata": {},
   "outputs": [
    {
     "name": "stdout",
     "output_type": "stream",
     "text": [
      "\n",
      "Displaying the Student_ID column ... returns series\n",
      "0    101\n",
      "1    102\n",
      "2    103\n",
      "3    104\n",
      "4    105\n",
      "Name: Student_ID, dtype: int64\n",
      "\n",
      "Displaying the Student_ID and Math_Score columns ... returns dataframe\n",
      "   Student_ID  Math_Score\n",
      "0         101        85.0\n",
      "1         102        78.0\n",
      "2         103        91.0\n",
      "3         104        76.0\n",
      "4         105        95.0\n",
      "\n",
      "Student_ID with Highest Math_Score\n",
      "    Student_ID  Math_Score  Science_Score  Attendance_Percentage\n",
      "2          103        91.0           75.0                   75.5\n",
      "4          105        95.0           92.0                   98.0\n",
      "7          108        92.0           91.0                   90.0\n",
      "16         103        91.0           75.0                   75.5\n",
      "\n",
      "Student_id with highest Math_Score and Attendance\n",
      "    Student_ID  Math_Score  Science_Score  Attendance_Percentage\n",
      "0          101        85.0           95.0                   92.5\n",
      "1          102        78.0           88.0                   99.0\n",
      "4          105        95.0           92.0                   98.0\n",
      "6          107        88.0           85.0                  105.0\n",
      "9          110        80.0           90.0                   92.0\n",
      "13         114        90.0           -inf                   91.0\n",
      "14         115        87.0           93.0                   94.0\n"
     ]
    }
   ],
   "source": [
    "import pandas as pd\n",
    "\n",
    "df = pd.read_csv(\"student_data.csv\")\n",
    "\n",
    "# Selecting Single column\n",
    "print(\"\\nDisplaying the Student_ID column ... returns series\")\n",
    "student_id = df['Student_ID']\n",
    "print(student_id.head())\n",
    "\n",
    "# Selecting multiple columns\n",
    "print(\"\\nDisplaying the Student_ID and Math_Score columns ... returns dataframe\")\n",
    "student_info = df[['Student_ID', 'Math_Score']]\n",
    "print(student_info.head())\n",
    "\n",
    "# filtering based on single consitons\n",
    "print(\"\\nStudent_ID with Highest Math_Score\")\n",
    "highest_math_score = df[df[\"Math_Score\"] > 90]\n",
    "print(highest_math_score)\n",
    "\n",
    "# filtering based on multiple conditions\n",
    "print(\"\\nStudent_id with highest Math_Score and Attendance\")\n",
    "highest = df[(df[\"Math_Score\"] > 75) & (df[\"Attendance_Percentage\"] > 90)]\n",
    "print(highest)"
   ]
  }
 ],
 "metadata": {
  "kernelspec": {
   "display_name": "base",
   "language": "python",
   "name": "python3"
  },
  "language_info": {
   "codemirror_mode": {
    "name": "ipython",
    "version": 3
   },
   "file_extension": ".py",
   "mimetype": "text/x-python",
   "name": "python",
   "nbconvert_exporter": "python",
   "pygments_lexer": "ipython3",
   "version": "3.12.4"
  }
 },
 "nbformat": 4,
 "nbformat_minor": 5
}
