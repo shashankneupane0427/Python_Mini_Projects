{
 "cells": [
  {
   "cell_type": "markdown",
   "id": "7897e24b",
   "metadata": {},
   "source": [
    "# Pandas Fundametals"
   ]
  },
  {
   "cell_type": "markdown",
   "id": "47eba4b7",
   "metadata": {},
   "source": [
    "### Key pandas concept:\n",
    "- Series:\n",
    "A series is a one-dimensional labeld array that ca n hold any data type: integeres, floats, strings, or eve Python objects. Each element in the series has a unique label called an Index. \n",
    "\n",
    "- DataFrame:\n",
    "A DataFrame is a two-dimensional labeld data structure in Pandas, similar to a table in a database, an Excel spreadsheet, or a SQL table. It consists of rows and columns."
   ]
  },
  {
   "cell_type": "code",
   "execution_count": null,
   "id": "c7cb28f3",
   "metadata": {},
   "outputs": [
    {
     "name": "stdout",
     "output_type": "stream",
     "text": [
      "    Student_ID  Math_Score  Science_Score  Attendance_Percentage\n",
      "0          101        85.0           95.0                   92.5\n",
      "1          102        78.0           88.0                   99.0\n",
      "2          103        91.0           75.0                   75.5\n",
      "3          104        76.0           89.0                    NaN\n",
      "4          105        95.0           92.0                   98.0\n",
      "5          106        65.0           72.0                   68.0\n",
      "6          107        88.0           85.0                  105.0\n",
      "7          108        92.0           91.0                   90.0\n",
      "8          109         NaN           80.0                   85.0\n",
      "9          110        80.0           90.0                   92.0\n",
      "10         111        75.0           78.0                   79.0\n",
      "11         112       -10.0           88.0                   87.0\n",
      "12         113        89.0            inf                   88.0\n",
      "13         114        90.0           -inf                   91.0\n",
      "14         115        87.0           93.0                   94.0\n",
      "15         116        82.0           84.0                   86.0\n",
      "16         103        91.0           75.0                   75.5\n"
     ]
    }
   ],
   "source": [
    "import pandas as pd\n",
    "\n",
    "# read csv from CSV file into a dataframe\n",
    "df = pd.read_csv(\"student_data.csv\")\n",
    "print(df)\n"
   ]
  }
 ],
 "metadata": {
  "kernelspec": {
   "display_name": "base",
   "language": "python",
   "name": "python3"
  },
  "language_info": {
   "codemirror_mode": {
    "name": "ipython",
    "version": 3
   },
   "file_extension": ".py",
   "mimetype": "text/x-python",
   "name": "python",
   "nbconvert_exporter": "python",
   "pygments_lexer": "ipython3",
   "version": "3.12.4"
  }
 },
 "nbformat": 4,
 "nbformat_minor": 5
}
