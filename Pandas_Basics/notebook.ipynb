{
 "cells": [
  {
   "cell_type": "markdown",
   "id": "7897e24b",
   "metadata": {},
   "source": [
    "# Pandas Fundametals"
   ]
  },
  {
   "cell_type": "markdown",
   "id": "47eba4b7",
   "metadata": {},
   "source": [
    "### Key pandas concept:\n",
    "- Series:\n",
    "A series is a one-dimensional labeld array that ca n hold any data type: integeres, floats, strings, or eve Python objects. Each element in the series has a unique label called an Index. \n",
    "\n",
    "- DataFrame:\n",
    "A DataFrame is a two-dimensional labeld data structure in Pandas, similar to a table in a database, an Excel spreadsheet, or a SQL table. It consists of rows and columns."
   ]
  },
  {
   "cell_type": "code",
   "execution_count": 1,
   "id": "c7cb28f3",
   "metadata": {},
   "outputs": [
    {
     "name": "stdout",
     "output_type": "stream",
     "text": [
      "   Student_ID  Math_Score  Science_Score  Attendance_Percentage\n",
      "0         101        85.0           95.0                   92.5\n",
      "1         102        78.0           88.0                   99.0\n",
      "2         103        91.0           75.0                   75.5\n",
      "3         104        76.0           89.0                    NaN\n",
      "4         105        95.0           92.0                   98.0\n"
     ]
    }
   ],
   "source": [
    "import pandas as pd\n",
    "\n",
    "# read csv from CSV file into a dataframe\n",
    "df = pd.read_csv(\"student_data.csv\")\n",
    "print(df.head())\n"
   ]
  },
  {
   "cell_type": "code",
   "execution_count": 2,
   "id": "5ec6a976",
   "metadata": {},
   "outputs": [
    {
     "name": "stdout",
     "output_type": "stream",
     "text": [
      "   id     name  age        department  marks\n",
      "0   1    Alice   24  Computer Science     88\n",
      "1   2      Bob   22       Mathematics     75\n",
      "2   3  Charlie   23           Physics     92\n",
      "3   4    David   21  Computer Science     81\n",
      "4   5      Eva   24       Mathematics     95\n"
     ]
    }
   ],
   "source": [
    "import pandas as pd\n",
    "\n",
    "# read json file\n",
    "df = pd.read_json('isjson.json')\n",
    "print(df.head())"
   ]
  },
  {
   "cell_type": "markdown",
   "id": "66680cf5",
   "metadata": {},
   "source": [
    "- gcsfs is used for cloud data"
   ]
  },
  {
   "cell_type": "code",
   "execution_count": 7,
   "id": "70e99dfa",
   "metadata": {},
   "outputs": [
    {
     "name": "stdout",
     "output_type": "stream",
     "text": [
      "      Name  Age         City\n",
      "0    Alice   24     New York\n",
      "1      Bob   22  Los Angeles\n",
      "2  Charlie   23      Chicago\n"
     ]
    }
   ],
   "source": [
    "import pandas as pd\n",
    "\n",
    "data = {\n",
    "    \"Name\": [\"Alice\", \"Bob\", \"Charlie\"],\n",
    "    \"Age\": [24, 22, 23],\n",
    "    \"City\": [\"New York\", \"Los Angeles\", \"Chicago\"]\n",
    "}\n",
    "\n",
    "df = pd.DataFrame(data)\n",
    "print(df)\n",
    "\n",
    "df.to_csv('output.csv', index=False)"
   ]
  },
  {
   "cell_type": "markdown",
   "id": "80ab9879",
   "metadata": {},
   "source": [
    "------------------------------------------------------------\n",
    "### Why Exploring Dataset is Important:\n",
    "- understand the data set and its format\n",
    "- identify the problems (duplicate, missing, infinity)\n",
    "- plan next steps"
   ]
  },
  {
   "cell_type": "code",
   "execution_count": 9,
   "id": "9680bd74",
   "metadata": {},
   "outputs": [
    {
     "name": "stdout",
     "output_type": "stream",
     "text": [
      "\n",
      "Display 10 rows from Starting: \n",
      "   Student_ID  Math_Score  Science_Score  Attendance_Percentage\n",
      "0         101        85.0           95.0                   92.5\n",
      "1         102        78.0           88.0                   99.0\n",
      "2         103        91.0           75.0                   75.5\n",
      "3         104        76.0           89.0                    NaN\n",
      "4         105        95.0           92.0                   98.0\n",
      "5         106        65.0           72.0                   68.0\n",
      "6         107        88.0           85.0                  105.0\n",
      "7         108        92.0           91.0                   90.0\n",
      "8         109         NaN           80.0                   85.0\n",
      "9         110        80.0           90.0                   92.0\n",
      "\n",
      "Display 10 rows from End: \n",
      "    Student_ID  Math_Score  Science_Score  Attendance_Percentage\n",
      "7          108        92.0           91.0                   90.0\n",
      "8          109         NaN           80.0                   85.0\n",
      "9          110        80.0           90.0                   92.0\n",
      "10         111        75.0           78.0                   79.0\n",
      "11         112       -10.0           88.0                   87.0\n",
      "12         113        89.0            inf                   88.0\n",
      "13         114        90.0           -inf                   91.0\n",
      "14         115        87.0           93.0                   94.0\n",
      "15         116        82.0           84.0                   86.0\n",
      "16         103        91.0           75.0                   75.5\n"
     ]
    }
   ],
   "source": [
    "import pandas as pd\n",
    "\n",
    "# head() tail()\n",
    "# head(n), taile(n) or by befault 5 Rows\n",
    "\n",
    "df = pd.read_csv(\"student_data.csv\")\n",
    "print(\"\\nDisplay 10 rows from Starting: \")\n",
    "print(df.head(10))\n",
    "\n",
    "print(\"\\nDisplay 10 rows from End: \")\n",
    "print(df.tail(10))\n"
   ]
  },
  {
   "cell_type": "markdown",
   "id": "e75ce27b",
   "metadata": {},
   "source": [
    "----------------------------------------------------------\n",
    "### After Previewing the data the another step is to understand the data\n",
    "- Type of structure\n",
    "- Column Type\n",
    "- Missing Values\n",
    "- OVerall size of data\n",
    "\n",
    "Overall summary of data in general.\n",
    "\n",
    "info()\n",
    "method\n",
    "\n",
    "1. number of rows and columns\n",
    "2. column name\n",
    "3. int64, float64 / datatype\n",
    "4. non null counts\n",
    "5. memoery uses of the data frame\n"
   ]
  },
  {
   "cell_type": "code",
   "execution_count": 12,
   "id": "c0fcd0bb",
   "metadata": {},
   "outputs": [
    {
     "name": "stdout",
     "output_type": "stream",
     "text": [
      "\n",
      "Displaying the info of data set........\n",
      "\n",
      "<class 'pandas.core.frame.DataFrame'>\n",
      "RangeIndex: 17 entries, 0 to 16\n",
      "Data columns (total 4 columns):\n",
      " #   Column                 Non-Null Count  Dtype  \n",
      "---  ------                 --------------  -----  \n",
      " 0   Student_ID             17 non-null     int64  \n",
      " 1   Math_Score             16 non-null     float64\n",
      " 2   Science_Score          17 non-null     float64\n",
      " 3   Attendance_Percentage  16 non-null     float64\n",
      "dtypes: float64(3), int64(1)\n",
      "memory usage: 676.0 bytes\n",
      "None\n"
     ]
    }
   ],
   "source": [
    "import pandas as pd\n",
    "\n",
    "# info() method\n",
    "\n",
    "df = pd.read_csv(\"student_data.csv\")\n",
    "\n",
    "print(\"\\nDisplaying the info of data set........\\n\")\n",
    "print(df.info())"
   ]
  },
  {
   "cell_type": "markdown",
   "id": "d9a79fed",
   "metadata": {},
   "source": [
    "------------------------------------------------------------\n",
    "### Untill Now We Learned:\n",
    "1. How to Read the Data\n",
    "2. How to Save the Data\n",
    "3. How to Explore the Data\n",
    "4. How to Generate Summary of Data \n",
    "\n",
    "Another Popular method in Pandas is :\n",
    "describe()\n",
    "method\n",
    "\n",
    "- Provides a descriptive statistics for numerical columns in data frames such as : \n",
    "    - Count\n",
    "    - Mean\n",
    "    - Standard Deviation\n",
    "    - Minimum\n",
    "    - 25% 50% 75%\n",
    "    - Maximum"
   ]
  },
  {
   "cell_type": "code",
   "execution_count": 14,
   "id": "188f1bd3",
   "metadata": {},
   "outputs": [
    {
     "name": "stdout",
     "output_type": "stream",
     "text": [
      "\n",
      "Displaying the statistical summary of data set........\n",
      "\n",
      "       Student_ID  Math_Score  Science_Score  Attendance_Percentage\n",
      "count   17.000000   16.000000           17.0              16.000000\n",
      "mean   108.176471   78.375000            NaN              87.843750\n",
      "std      4.798897   24.848541            NaN               9.669055\n",
      "min    101.000000  -10.000000           -inf              68.000000\n",
      "25%    104.000000   77.500000           78.0              83.500000\n",
      "50%    108.000000   86.000000           88.0              89.000000\n",
      "75%    112.000000   90.250000           91.0              92.875000\n",
      "max    116.000000   95.000000            inf             105.000000\n"
     ]
    },
    {
     "name": "stderr",
     "output_type": "stream",
     "text": [
      "c:\\Users\\surya\\miniconda3\\Lib\\site-packages\\numpy\\_core\\_methods.py:52: RuntimeWarning: invalid value encountered in reduce\n",
      "  return umr_sum(a, axis, dtype, out, keepdims, initial, where)\n"
     ]
    }
   ],
   "source": [
    "import pandas as pd\n",
    "\n",
    "# describe()\n",
    "\n",
    "df = pd.read_csv(\"student_data.csv\")\n",
    "\n",
    "print(\"\\nDisplaying the statistical summary of data set........\\n\")\n",
    "print(df.describe())\n"
   ]
  },
  {
   "cell_type": "markdown",
   "id": "fe6c8e43",
   "metadata": {},
   "source": [
    "-------------------------------------------------------------\n",
    "Understand:\n",
    "1. How big is your dataset\n",
    "2. What are the names of column\n",
    "\n",
    "Shape and columns\n",
    "- df.shape\n",
    "- df.columns"
   ]
  },
  {
   "cell_type": "code",
   "execution_count": 15,
   "id": "ba54f24f",
   "metadata": {},
   "outputs": [
    {
     "name": "stdout",
     "output_type": "stream",
     "text": [
      "\n",
      "Shape : (17, 4)\n",
      "\n",
      "Columns : Index(['Student_ID', 'Math_Score', 'Science_Score', 'Attendance_Percentage'], dtype='object')\n"
     ]
    }
   ],
   "source": [
    "import pandas as pd\n",
    "\n",
    "# df.shape, df.columns\n",
    "\n",
    "df = pd.read_csv(\"student_data.csv\")\n",
    "\n",
    "print(f\"\\nShape : {df.shape}\")\n",
    "print(f\"\\nColumns : {df.columns}\")\n",
    "    "
   ]
  },
  {
   "cell_type": "markdown",
   "id": "05b2dd84",
   "metadata": {},
   "source": [
    "----------------------------------------------------------\n",
    "### Learning How to:\n",
    "-  Select specific column\n",
    "    - df[\"Name\"]\n",
    "    - df[\"Name\", \"roll\"]\n",
    "-  Filter rows\n",
    "    - Based on single condition\n",
    "    - filtered_rows = df[df[\"Salary\"] > 50000]\n",
    "\n",
    "    - Based on multiple condition\n",
    "    - filtered_rows = df[(df[\"salary\"] > 50000) & (df[\"salary\"] < 80000)]"
   ]
  },
  {
   "cell_type": "code",
   "execution_count": 30,
   "id": "939a7f5b",
   "metadata": {},
   "outputs": [
    {
     "name": "stdout",
     "output_type": "stream",
     "text": [
      "\n",
      "Displaying the Student_ID column ... returns series\n",
      "0    101\n",
      "1    102\n",
      "2    103\n",
      "3    104\n",
      "4    105\n",
      "Name: Student_ID, dtype: int64\n",
      "\n",
      "Displaying the Student_ID and Math_Score columns ... returns dataframe\n",
      "   Student_ID  Math_Score\n",
      "0         101        85.0\n",
      "1         102        78.0\n",
      "2         103        91.0\n",
      "3         104        76.0\n",
      "4         105        95.0\n",
      "\n",
      "Student_ID with Highest Math_Score\n",
      "    Student_ID  Math_Score  Science_Score  Attendance_Percentage\n",
      "2          103        91.0           75.0                   75.5\n",
      "4          105        95.0           92.0                   98.0\n",
      "7          108        92.0           91.0                   90.0\n",
      "16         103        91.0           75.0                   75.5\n",
      "\n",
      "Student_id with highest Math_Score and Attendance\n",
      "    Student_ID  Math_Score  Science_Score  Attendance_Percentage\n",
      "0          101        85.0           95.0                   92.5\n",
      "1          102        78.0           88.0                   99.0\n",
      "4          105        95.0           92.0                   98.0\n",
      "6          107        88.0           85.0                  105.0\n",
      "9          110        80.0           90.0                   92.0\n",
      "13         114        90.0           -inf                   91.0\n",
      "14         115        87.0           93.0                   94.0\n"
     ]
    }
   ],
   "source": [
    "import pandas as pd\n",
    "\n",
    "df = pd.read_csv(\"student_data.csv\")\n",
    "\n",
    "# Selecting Single column\n",
    "print(\"\\nDisplaying the Student_ID column ... returns series\")\n",
    "student_id = df['Student_ID']\n",
    "print(student_id.head())\n",
    "\n",
    "# Selecting multiple columns\n",
    "print(\"\\nDisplaying the Student_ID and Math_Score columns ... returns dataframe\")\n",
    "student_info = df[['Student_ID', 'Math_Score']]\n",
    "print(student_info.head())\n",
    "\n",
    "# filtering based on single consitons\n",
    "print(\"\\nStudent_ID with Highest Math_Score\")\n",
    "highest_math_score = df[df[\"Math_Score\"] > 90]\n",
    "print(highest_math_score)\n",
    "\n",
    "# filtering based on multiple conditions\n",
    "print(\"\\nStudent_id with highest Math_Score and Attendance\")\n",
    "highest = df[(df[\"Math_Score\"] > 75) & (df[\"Attendance_Percentage\"] > 90)]\n",
    "print(highest)"
   ]
  },
  {
   "cell_type": "markdown",
   "id": "443fcb40",
   "metadata": {},
   "source": [
    "--------------------------------------------------------------------\n",
    "### Modifying Data"
   ]
  },
  {
   "cell_type": "code",
   "execution_count": null,
   "id": "41b99305",
   "metadata": {},
   "outputs": [
    {
     "name": "stdout",
     "output_type": "stream",
     "text": [
      "   Student_ID  Math_Score  Science_Score  Attendance_Percentage\n",
      "0         101        85.0           95.0                   92.5\n",
      "1         102        78.0           88.0                   99.0\n",
      "2         103        91.0           75.0                   75.5\n",
      "3         104        76.0           89.0                    NaN\n",
      "4         105        95.0           92.0                   98.0\n",
      "\n",
      "After Adding new Column:\n",
      "   Student_ID  Math_Score  Science_Score  Attendance_Percentage  Bonus\n",
      "0         101        85.0           95.0                   92.5   9.25\n",
      "1         102        78.0           88.0                   99.0   9.90\n",
      "2         103        91.0           75.0                   75.5   7.55\n",
      "3         104        76.0           89.0                    NaN    NaN\n",
      "4         105        95.0           92.0                   98.0   9.80\n",
      "\n",
      " After adding neww COlumn at 2nd Index\n",
      "   Student_ID  Math_Score  Bonus_2  Science_Score  Attendance_Percentage  \\\n",
      "0         101        85.0     18.5           95.0                   92.5   \n",
      "1         102        78.0     19.8           88.0                   99.0   \n",
      "2         103        91.0     15.1           75.0                   75.5   \n",
      "3         104        76.0      NaN           89.0                    NaN   \n",
      "4         105        95.0     19.6           92.0                   98.0   \n",
      "\n",
      "   Bonus  \n",
      "0   9.25  \n",
      "1   9.90  \n",
      "2   7.55  \n",
      "3    NaN  \n",
      "4   9.80  \n"
     ]
    }
   ],
   "source": [
    "import pandas as pd\n",
    "\n",
    "# inserting column in dataframe\n",
    "\n",
    "df = pd.read_csv(\"student_data.csv\")\n",
    "print(df.head())\n",
    "# square brackets df['column_name'] = some_Data\n",
    "\n",
    "print(\"\\nAfter Adding new Column:\")\n",
    "df['Bonus'] = df['Attendance_Percentage'] * 0.1\n",
    "print(df.head())\n",
    "\n",
    "# using insert method to inserting at a specific position\n",
    "# df.insert(loc, \"Column_name\", some_data)\n",
    "\n",
    "print(\"\\n After adding neww COlumn at 2nd Index\")\n",
    "df.insert(2, \"Bonus_2\", df['Attendance_Percentage'] * 0.2)   \n",
    "print(df.head())\n"
   ]
  },
  {
   "cell_type": "code",
   "execution_count": null,
   "id": "74fba7f3",
   "metadata": {},
   "outputs": [
    {
     "name": "stdout",
     "output_type": "stream",
     "text": [
      "   Student_ID  Math_Score  Science_Score  Attendance_Percentage\n",
      "0         101        85.0           95.0                   92.5\n",
      "1         102        78.0           88.0                   99.0\n",
      "2         103        91.0           75.0                   75.5\n",
      "3         104        76.0           89.0                    NaN\n",
      "4         105        95.0           92.0                   98.0\n",
      "\n",
      " After updating Rows\n",
      "   Student_ID  Math_Score  Science_Score  Attendance_Percentage\n",
      "0         101        99.0           95.0                   92.5\n",
      "1         102        78.0           88.0                   99.0\n",
      "2         103        91.0           75.0                   75.5\n",
      "3         104        76.0           89.0                    NaN\n",
      "4         105        95.0           92.0                   98.0\n",
      "\n",
      " After updating entire values of a column\n",
      "   Student_ID  Math_Score  Science_Score  Attendance_Percentage\n",
      "0         101       100.0           95.0                   92.5\n",
      "1         102        79.0           88.0                   99.0\n",
      "2         103        92.0           75.0                   75.5\n",
      "3         104        77.0           89.0                    NaN\n",
      "4         105        96.0           92.0                   98.0\n"
     ]
    }
   ],
   "source": [
    "import pandas as pd\n",
    "\n",
    " # updating Rows value of a specific column \n",
    " \n",
    "df = pd.read_csv(\"student_data.csv\")\n",
    "print(df.head())\n",
    "\n",
    "# .loc[]\n",
    "# df.loc[row_index, 'Column_name\"] = new_value\n",
    "\n",
    "df.loc[0, 'Math_Score'] = 99\n",
    "print(\"\\n After updating Rows\")\n",
    "print(df.head())\n",
    "\n",
    "# updating entire values of a column\n",
    "\n",
    "df['Math_Score'] = df['Math_Score'] + 1\n",
    "print(\"\\n After updating entire values of a column\")\n",
    "print(df.head())"
   ]
  },
  {
   "cell_type": "code",
   "execution_count": null,
   "id": "a96a609b",
   "metadata": {},
   "outputs": [
    {
     "name": "stdout",
     "output_type": "stream",
     "text": [
      "\n",
      " After Droping Science_Score column\n",
      "   Student_ID  Math_Score  Attendance_Percentage\n",
      "0         101        85.0                   92.5\n",
      "1         102        78.0                   99.0\n",
      "2         103        91.0                   75.5\n",
      "3         104        76.0                    NaN\n",
      "4         105        95.0                   98.0\n",
      "   Student_ID\n",
      "0         101\n",
      "1         102\n",
      "2         103\n",
      "3         104\n",
      "4         105\n"
     ]
    }
   ],
   "source": [
    "import pandas as pd\n",
    "\n",
    "# dropping\n",
    "# df.drop(columns = [\"column_name\"], inplace= True)\n",
    "# inplace = True modifies the original dataframe directlyu\n",
    "# inplace = False then returns new data frame\n",
    "\n",
    "df = pd.read_csv(\"student_data.csv\")\n",
    "\n",
    "df.drop(columns = [\"Science_Score\"], inplace = True)\n",
    "print(\"\\n After Droping Science_Score column\")\n",
    "print(df.head())\n",
    "\n",
    "# drop multiple columns\n",
    "\n",
    "df.drop(columns = [\"Math_Score\", \"Attendance_Percentage\"], inplace = True)\n",
    "print(\"\\n After dropping multiple columns\")\n",
    "print(df.head())"
   ]
  },
  {
   "cell_type": "markdown",
   "id": "5bfff8d8",
   "metadata": {},
   "source": [
    "-------------------------------------------------------------------------\n",
    "### Handling Missing Data using Pandas\n",
    "- NaN (not a number)\n",
    "- None (for object data types)\n",
    "\n",
    "- isnull()"
   ]
  },
  {
   "cell_type": "code",
   "execution_count": null,
   "id": "d7c908f5",
   "metadata": {},
   "outputs": [
    {
     "name": "stdout",
     "output_type": "stream",
     "text": [
      "    Student_ID  Math_Score  Science_Score  Attendance_Percentage\n",
      "0        False       False          False                  False\n",
      "1        False       False          False                  False\n",
      "2        False       False          False                  False\n",
      "3        False       False          False                   True\n",
      "4        False       False          False                  False\n",
      "5        False       False          False                  False\n",
      "6        False       False          False                  False\n",
      "7        False       False          False                  False\n",
      "8        False        True          False                  False\n",
      "9        False       False          False                  False\n",
      "10       False       False          False                  False\n",
      "11       False       False          False                  False\n",
      "12       False       False          False                  False\n",
      "13       False       False          False                  False\n",
      "14       False       False          False                  False\n",
      "15       False       False          False                  False\n",
      "16       False       False          False                  False\n",
      "\n",
      "Number of Missing values in each column\n",
      "Student_ID               0\n",
      "Math_Score               1\n",
      "Science_Score            0\n",
      "Attendance_Percentage    1\n",
      "dtype: int64\n"
     ]
    }
   ],
   "source": [
    "import pandas as pd\n",
    "\n",
    "# Finding missing values\n",
    "\n",
    "df = pd.read_csv(\"student_data.csv\")\n",
    "\n",
    "print(df.isnull())\n",
    "\n",
    "# number of missing values\n",
    "\n",
    "print(\"\\nNumber of Missing values in each column\")\n",
    "print(df.isnull().sum())"
   ]
  },
  {
   "cell_type": "code",
   "execution_count": 43,
   "id": "3c13fc58",
   "metadata": {},
   "outputs": [
    {
     "name": "stdout",
     "output_type": "stream",
     "text": [
      "\n",
      "fillna() \n",
      "   Student_ID  Math_Score  Science_Score  Attendance_Percentage\n",
      "0         101        85.0           95.0                   92.5\n",
      "1         102        78.0           88.0                   99.0\n",
      "2         103        91.0           75.0                   75.5\n",
      "3         104        76.0           89.0                    0.0\n",
      "4         105        95.0           92.0                   98.0\n",
      "Student_ID               0\n",
      "Math_Score               0\n",
      "Science_Score            0\n",
      "Attendance_Percentage    0\n",
      "dtype: int64\n",
      "\n",
      "dropna() \n",
      "Student_ID               0\n",
      "Math_Score               0\n",
      "Science_Score            0\n",
      "Attendance_Percentage    0\n",
      "dtype: int64\n",
      "   Student_ID  Math_Score  Science_Score  Attendance_Percentage\n",
      "0         101        85.0           95.0                   92.5\n",
      "1         102        78.0           88.0                   99.0\n",
      "2         103        91.0           75.0                   75.5\n",
      "3         104        76.0           89.0                    NaN\n",
      "4         105        95.0           92.0                   98.0\n",
      "   Student_ID  Math_Score  Science_Score  Attendance_Percentage\n",
      "0         101        85.0           95.0              92.500000\n",
      "1         102        78.0           88.0              99.000000\n",
      "2         103        91.0           75.0              75.500000\n",
      "3         104        76.0           89.0              82.676471\n",
      "4         105        95.0           92.0              98.000000\n"
     ]
    },
    {
     "name": "stderr",
     "output_type": "stream",
     "text": [
      "C:\\Users\\surya\\AppData\\Local\\Temp\\ipykernel_2212\\1105316545.py:22: FutureWarning: A value is trying to be set on a copy of a DataFrame or Series through chained assignment using an inplace method.\n",
      "The behavior will change in pandas 3.0. This inplace method will never work because the intermediate object on which we are setting values always behaves as a copy.\n",
      "\n",
      "For example, when doing 'df[col].method(value, inplace=True)', try using 'df.method({col: value}, inplace=True)' or df[col] = df[col].method(value) instead, to perform the operation inplace on the original object.\n",
      "\n",
      "\n",
      "  new_df['Attendance_Percentage'].fillna(df['Attendance_Percentage'].mean(), inplace = True)\n"
     ]
    }
   ],
   "source": [
    "import pandas as pd\n",
    "\n",
    "# handling missing values\n",
    "# dropna() , fillna()\n",
    "# dropna(axis=0, inplace = True) : axis = 0 rows, axis = 1 column\n",
    "# fillna(value, inplace = True)\n",
    "\n",
    "df = pd.read_csv(\"student_data.csv\")\n",
    "\n",
    "print(\"\\nfillna() \")\n",
    "df.fillna(0, inplace=True)\n",
    "print(df.head())\n",
    "print(df.isnull().sum())\n",
    "\n",
    "print(\"\\ndropna() \")\n",
    "df.dropna(axis=1, inplace=True)\n",
    "print(df.isnull().sum())\n",
    "\n",
    "new_df = pd.read_csv(\"student_data.csv\")\n",
    "print(new_df.head())\n",
    "\n",
    "new_df['Attendance_Percentage'].fillna(df['Attendance_Percentage'].mean(), inplace = True)\n",
    "print(new_df.head())\n"
   ]
  },
  {
   "cell_type": "markdown",
   "id": "641ee076",
   "metadata": {},
   "source": [
    "------------------------------------------------------------------------\n",
    "### Interpolation\n",
    "- It is a technique in which missing values are filled by estimated values instead of default values.\n",
    "- for eg: [10, 20, NaN, 40, 50]\n",
    "- estimated : [10, 20, 30, 40, 50]\n",
    "\n",
    "Why Interploation is used:\n",
    "1. Preserve data integrity\n",
    "2. Smooth trends  \n",
    "3. Avoid data loss\n",
    "\n",
    "- interpolate()\n",
    "    - method ='linear'\n",
    "    - method = 'polynomial'\n",
    "    - method = 'time'"
   ]
  },
  {
   "cell_type": "code",
   "execution_count": 49,
   "id": "b7b3ff6f",
   "metadata": {},
   "outputs": [
    {
     "name": "stdout",
     "output_type": "stream",
     "text": [
      "\n",
      "Before interpolation...\n",
      "   Time  Value\n",
      "0     1   10.0\n",
      "1     2    NaN\n",
      "2     3   30.0\n",
      "3     4    NaN\n",
      "4     5   50.0\n",
      "\n",
      "After interpolation...\n",
      "   Time  Value\n",
      "0     1   10.0\n",
      "1     2   20.0\n",
      "2     3   30.0\n",
      "3     4   40.0\n",
      "4     5   50.0\n"
     ]
    }
   ],
   "source": [
    "import pandas as pd\n",
    "\n",
    "data = {\n",
    "    \"Time\": [1, 2, 3, 4, 5],\n",
    "    'Value': [10, None, 30, None, 50]\n",
    "}\n",
    "\n",
    "df = pd.DataFrame(data)\n",
    "print(\"\\nBefore interpolation...\")\n",
    "print(df)\n",
    "\n",
    "print(\"\\nAfter interpolation...\")\n",
    "df['Value'] = df['Value'].interpolate(method=\"linear\")\n",
    "print(df)"
   ]
  },
  {
   "cell_type": "markdown",
   "id": "1f6ee06f",
   "metadata": {},
   "source": [
    "-----------------------------------------------------------------------\n",
    "### Sorting and Aggregation\n",
    "- arranging in a meaningfull order\n",
    "- to generate summary\n",
    "\n",
    "1. Sorting\n",
    "    - Arranging rows based on 1 or more columns "
   ]
  },
  {
   "cell_type": "code",
   "execution_count": 52,
   "id": "c1b96d5d",
   "metadata": {},
   "outputs": [
    {
     "name": "stdout",
     "output_type": "stream",
     "text": [
      "\n",
      "Sorted age by descending order:\n",
      "      Name  Age         City  Salary\n",
      "3    David   32      Houston   90000\n",
      "1      Bob   27  Los Angeles   80000\n",
      "0    Alice   24     New York   70000\n",
      "2  Charlie   22      Chicago   60000\n",
      "\n",
      "Sorted by City and Salary:\n",
      "      Name  Age         City  Salary\n",
      "2  Charlie   22      Chicago   60000\n",
      "3    David   32      Houston   90000\n",
      "1      Bob   27  Los Angeles   80000\n",
      "0    Alice   24     New York   70000\n"
     ]
    }
   ],
   "source": [
    "import pandas as pd\n",
    "\n",
    "# sorting data 1 column : sort_values() metho\n",
    "# df.sort_values(by='column_name', ascending=True, inplace=True)\n",
    "\n",
    "data = {\n",
    "    \"Name\": [\"Alice\", \"Bob\", \"Charlie\", \"David\"],\n",
    "    \"Age\": [24, 27, 22, 32],\n",
    "    \"City\": [\"New York\", \"Los Angeles\", \"Chicago\", \"Houston\"],\n",
    "    \"Salary\": [70000, 80000, 60000, 90000]\n",
    "}\n",
    "\n",
    "df = pd.DataFrame(data)\n",
    "\n",
    "df.sort_values(by='Age', ascending=False, inplace=True)\n",
    "print(\"\\nSorted age by descending order:\")\n",
    "print(df)\n",
    "\n",
    "\n",
    "# multiple columns\n",
    "# df.sort_values(by=['Age', 'Salary'], ascending=[False, True], inplace=True)\n",
    "\n",
    "df.sort_values(by=['City', 'Salary'], ascending=[True, False], inplace=True)\n",
    "print(\"\\nSorted by City and Salary:\")\n",
    "print(df)"
   ]
  }
 ],
 "metadata": {
  "kernelspec": {
   "display_name": "base",
   "language": "python",
   "name": "python3"
  },
  "language_info": {
   "codemirror_mode": {
    "name": "ipython",
    "version": 3
   },
   "file_extension": ".py",
   "mimetype": "text/x-python",
   "name": "python",
   "nbconvert_exporter": "python",
   "pygments_lexer": "ipython3",
   "version": "3.12.4"
  }
 },
 "nbformat": 4,
 "nbformat_minor": 5
}
